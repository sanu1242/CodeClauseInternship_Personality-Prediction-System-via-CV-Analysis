{
 "cells": [
  {
   "cell_type": "code",
   "execution_count": 1,
   "metadata": {},
   "outputs": [
    {
     "data": {
      "text/plain": [
       "'\\n!pip install pandas \\n!pip install scikit-learn \\n!pip install spacy \\n!pip install transformers \\n!pip install nltk\\n'"
      ]
     },
     "execution_count": 1,
     "metadata": {},
     "output_type": "execute_result"
    }
   ],
   "source": [
    "'''\n",
    "!pip install pandas \n",
    "!pip install scikit-learn \n",
    "!pip install spacy \n",
    "!pip install transformers \n",
    "!pip install nltk\n",
    "'''"
   ]
  },
  {
   "cell_type": "code",
   "execution_count": 2,
   "metadata": {},
   "outputs": [
    {
     "name": "stdout",
     "output_type": "stream",
     "text": [
      "Collecting en-core-web-sm==3.8.0\n",
      "  Downloading https://github.com/explosion/spacy-models/releases/download/en_core_web_sm-3.8.0/en_core_web_sm-3.8.0-py3-none-any.whl (12.8 MB)\n",
      "     ---------------------------------------- 0.0/12.8 MB ? eta -:--:--\n",
      "     --- ------------------------------------ 1.0/12.8 MB 6.3 MB/s eta 0:00:02\n",
      "     ----- ---------------------------------- 1.8/12.8 MB 4.8 MB/s eta 0:00:03\n",
      "     --------- ------------------------------ 2.9/12.8 MB 4.4 MB/s eta 0:00:03\n",
      "     ----------- ---------------------------- 3.7/12.8 MB 4.3 MB/s eta 0:00:03\n",
      "     ------------- -------------------------- 4.5/12.8 MB 4.2 MB/s eta 0:00:02\n",
      "     ---------------- ----------------------- 5.2/12.8 MB 4.1 MB/s eta 0:00:02\n",
      "     ------------------ --------------------- 6.0/12.8 MB 4.1 MB/s eta 0:00:02\n",
      "     --------------------- ------------------ 6.8/12.8 MB 4.1 MB/s eta 0:00:02\n",
      "     ------------------------ --------------- 7.9/12.8 MB 4.1 MB/s eta 0:00:02\n",
      "     --------------------------- ------------ 8.7/12.8 MB 4.1 MB/s eta 0:00:02\n",
      "     ----------------------------- ---------- 9.4/12.8 MB 4.0 MB/s eta 0:00:01\n",
      "     ------------------------------- -------- 10.2/12.8 MB 4.0 MB/s eta 0:00:01\n",
      "     ---------------------------------- ----- 11.0/12.8 MB 4.0 MB/s eta 0:00:01\n",
      "     ------------------------------------ --- 11.8/12.8 MB 4.0 MB/s eta 0:00:01\n",
      "     ---------------------------------------  12.6/12.8 MB 4.0 MB/s eta 0:00:01\n",
      "     ---------------------------------------- 12.8/12.8 MB 4.0 MB/s eta 0:00:00\n",
      "\u001b[38;5;2m✔ Download and installation successful\u001b[0m\n",
      "You can now load the package via spacy.load('en_core_web_sm')\n"
     ]
    }
   ],
   "source": [
    "!python -m spacy download en_core_web_sm\n"
   ]
  },
  {
   "cell_type": "code",
   "execution_count": 3,
   "metadata": {},
   "outputs": [
    {
     "name": "stderr",
     "output_type": "stream",
     "text": [
      "[nltk_data] Downloading package vader_lexicon to\n",
      "[nltk_data]     C:\\Users\\saksh\\AppData\\Roaming\\nltk_data...\n",
      "[nltk_data]   Package vader_lexicon is already up-to-date!\n"
     ]
    },
    {
     "data": {
      "text/plain": [
       "True"
      ]
     },
     "execution_count": 3,
     "metadata": {},
     "output_type": "execute_result"
    }
   ],
   "source": [
    "import nltk\n",
    "from nltk.sentiment import SentimentIntensityAnalyzer\n",
    "import pandas as pd\n",
    "import spacy\n",
    "import nltk\n",
    "# Download the vader_lexicon if you haven't already\n",
    "nltk.download('vader_lexicon')\n"
   ]
  },
  {
   "cell_type": "code",
   "execution_count": 4,
   "metadata": {},
   "outputs": [
    {
     "name": "stderr",
     "output_type": "stream",
     "text": [
      "[nltk_data] Downloading package vader_lexicon to\n",
      "[nltk_data]     C:\\Users\\saksh\\AppData\\Roaming\\nltk_data...\n",
      "[nltk_data]   Package vader_lexicon is already up-to-date!\n"
     ]
    },
    {
     "name": "stdout",
     "output_type": "stream",
     "text": [
      "Classification Report:\n",
      "                   precision    recall  f1-score   support\n",
      "\n",
      "Conscientiousness       0.00      1.00      0.00       0.0\n",
      "     Extraversion       1.00      0.00      0.00       1.0\n",
      "\n",
      "         accuracy                           0.00       1.0\n",
      "        macro avg       0.50      0.50      0.00       1.0\n",
      "     weighted avg       1.00      0.00      0.00       1.0\n",
      "\n"
     ]
    }
   ],
   "source": [
    "import pandas as pd\n",
    "import spacy\n",
    "import nltk\n",
    "from sklearn.feature_extraction.text import CountVectorizer\n",
    "from sklearn.preprocessing import LabelEncoder\n",
    "from sklearn.model_selection import train_test_split\n",
    "from sklearn.ensemble import RandomForestClassifier\n",
    "from sklearn.metrics import classification_report\n",
    "from nltk.sentiment import SentimentIntensityAnalyzer\n",
    "import numpy as np\n",
    "import warnings\n",
    "\n",
    "# Suppress the UndefinedMetricWarning\n",
    "warnings.filterwarnings(\"ignore\", category=UserWarning, module='sklearn')\n",
    "\n",
    "# Download the vader_lexicon\n",
    "nltk.download('vader_lexicon')\n",
    "\n",
    "# Load the spaCy model\n",
    "nlp = spacy.load('en_core_web_sm')\n",
    "\n",
    "# Example CV dataset (replace with real data)\n",
    "data = {\n",
    "    'cv_text': [\n",
    "        \"Software Engineer with experience in Python, machine learning, and data science. Leadership skills and team collaboration.\",\n",
    "        \"Experienced marketer with a passion for creativity. Strong leadership and strategic thinking in brand management.\",\n",
    "        \"Detail-oriented accountant with expertise in financial analysis, budgeting, and reporting. Strong teamwork and organizational skills.\",\n",
    "        \"Creative graphic designer skilled in Adobe Suite, project management, and teamwork.\",\n",
    "        \"Product manager with 10 years of experience in project management and cross-functional collaboration.\"\n",
    "    ],\n",
    "    'personality': ['Conscientiousness', 'Extraversion', 'Conscientiousness', 'Openness', 'Extraversion']\n",
    "}\n",
    "\n",
    "# Create a DataFrame\n",
    "df = pd.DataFrame(data)\n",
    "\n",
    "# Preprocess text (clean and tokenize)\n",
    "def preprocess_text(text):\n",
    "    # Tokenization and lemmatization\n",
    "    doc = nlp(text.lower())\n",
    "    tokens = [token.lemma_ for token in doc if not token.is_stop and not token.is_punct]\n",
    "    return \" \".join(tokens)\n",
    "\n",
    "# Apply preprocessing to CV texts\n",
    "df['cleaned_text'] = df['cv_text'].apply(preprocess_text)\n",
    "\n",
    "# Sentiment analysis (a proxy for emotional stability)\n",
    "sia = SentimentIntensityAnalyzer()\n",
    "\n",
    "def get_sentiment(text):\n",
    "    return sia.polarity_scores(text)['compound']\n",
    "\n",
    "df['sentiment'] = df['cv_text'].apply(get_sentiment)\n",
    "\n",
    "# Extract features (bag of words and sentiment)\n",
    "vectorizer = CountVectorizer(max_features=100)  # Limit to 100 features for simplicity\n",
    "X = vectorizer.fit_transform(df['cleaned_text']).toarray()\n",
    "\n",
    "# Convert sentiment column to a 2D array for concatenation\n",
    "sentiment = df['sentiment'].values.reshape(-1, 1)\n",
    "\n",
    "# Concatenate sentiment as a new feature column\n",
    "X = np.hstack([X, sentiment])\n",
    "\n",
    "# Label encode personality\n",
    "label_encoder = LabelEncoder()\n",
    "y = label_encoder.fit_transform(df['personality'])\n",
    "\n",
    "# Train-test split\n",
    "X_train, X_test, y_train, y_test = train_test_split(X, y, test_size=0.2, random_state=42)\n",
    "\n",
    "# Initialize the model (RandomForest in this case)\n",
    "model = RandomForestClassifier(n_estimators=100, random_state=42)\n",
    "\n",
    "# Train the model\n",
    "model.fit(X_train, y_train)\n",
    "\n",
    "# Predict on the test set\n",
    "y_pred = model.predict(X_test)\n",
    "\n",
    "# Decode the labels back to their original form\n",
    "y_test_decoded = label_encoder.inverse_transform(y_test)\n",
    "y_pred_decoded = label_encoder.inverse_transform(y_pred)\n",
    "\n",
    "# Evaluate the model and print classification report with zero_division handling\n",
    "print(\"Classification Report:\")\n",
    "print(classification_report(y_test_decoded, y_pred_decoded, zero_division=1))\n"
   ]
  }
 ],
 "metadata": {
  "kernelspec": {
   "display_name": "MachineLearning",
   "language": "python",
   "name": "python3"
  },
  "language_info": {
   "codemirror_mode": {
    "name": "ipython",
    "version": 3
   },
   "file_extension": ".py",
   "mimetype": "text/x-python",
   "name": "python",
   "nbconvert_exporter": "python",
   "pygments_lexer": "ipython3",
   "version": "3.11.9"
  }
 },
 "nbformat": 4,
 "nbformat_minor": 2
}
